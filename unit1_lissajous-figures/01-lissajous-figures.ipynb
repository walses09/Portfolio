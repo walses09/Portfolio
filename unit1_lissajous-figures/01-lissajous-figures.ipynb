{
 "cells": [
  {
   "cell_type": "markdown",
   "metadata": {},
   "source": [
    "# Lissajous Figures\n",
    "\n",
    "Lissajous Figures arise from the motion of a two-dimensional harmonic oscillator by plotting y vs x, which are independent of each other. These figures can be described by the following equation:\n",
    "\n",
    "$$\\vec{F}_{net}=\\langle -k_1x, -k_2y, 0 \\rangle$$\n",
    "\n",
    "The variables $x$ and $y$ are coordinates in the x-y plane and $k$ is the stiffness of the motion in N/m. The stiffnesses can be written as:\n",
    "\n",
    "$$k=m\\omega^2$$\n",
    "\n",
    "The variable $\\omega$ is the angular frequency of the mass ($m$) in the system.\n",
    "\n",
    "We can then replace the $k$ in the first equation to produce the following equation:\n",
    "\n",
    "$$\\vec{F}_{net}=\\langle -m\\omega_1^2x, -m\\omega_2^2y, 0 \\rangle$$\n",
    "\n",
    "When the angulat frequency ratio $\\frac{\\omega_1}{\\omega_2}$ is equal to a ratio of integers like $1/2$, $1/3$, $2/3$, $2/1$, $3/2$, etc. interesting patterns in a graph of $y(x)$ (the \"motion\") emerge. \n",
    " \n",
    " reference: [All About Lissajous Figures by Thomas Greenslade, Jr.](https://aapt.scitation.org/doi/abs/10.1119/1.2343802?journalCode=pte)\n",
    " \n",
    "Lissajous Figures can be pictured as arrising from a box with a mass in the center of it attached to for springs (one attached to the center of each of the four sides of the box). When you pull the mass with an initial velocity in one direction and then let it go, the Lissajous Figures show the trajectory of the mass that is attached to the springs."
   ]
  },
  {
   "cell_type": "markdown",
   "metadata": {},
   "source": [
    "### Solving our Differential Equations Analytically\n",
    "Before beginning to code anything we must obtain the needed differential equations so that we can use the numericalintegration method to solve them and create the Lissajous Figures. The differential equations we are looking for are $\\frac{dx}{dt}$, $\\frac{dy}{dt}$, $\\frac{dv_x}{dt}$, and $\\frac{dv_y}{dt}$\n",
    "\n",
    "We start out with our initial Equations:\n",
    "$$\\vec{F}_{net}=\\langle -k_1x, -k_2y, 0 \\rangle$$\n",
    "\n",
    "$$k = m\\omega^2$$\n",
    "\n",
    "Using the above equations, we can solve for $\\frac{dv_x}{dt}$ and $\\frac{dv_y}{dt}$:\n",
    "\n",
    "$$\\vec{F}_{netx} = -k_1x$$\n",
    "\n",
    "$$m \\frac{dv_x}{dt} = -k_1x$$\n",
    "\n",
    "$$\\frac{dv_x}{dt} = \\frac{-k_1x}{m}$$\n",
    "\n",
    "$$\\frac{dv_x}{dt} = \\frac{m\\omega^2x}{m}$$\n",
    "\n",
    "$$\\boxed{\\frac{dv_x}{dt} = \\omega^{2}x}$$\n",
    "\n",
    "\n",
    "$$\\vec{F}_{nety} = -k_1xy$$\n",
    "\n",
    "$$m \\frac{dv_y}{dt} = -k_1y$$\n",
    "\n",
    "$$\\frac{dv_y}{dt} = \\frac{-k_1y}{m}$$\n",
    "\n",
    "$$\\frac{dv_y}{dt} = \\frac{m\\omega^2y}{m}$$\n",
    "\n",
    "$$\\boxed{\\frac{dv_y}{dt} = \\omega^{2}y}$$\n",
    "\n",
    "For the next two differential equations, we know that:\n",
    "$$\\boxed{\\frac{dx}{dt} = v_x}$$\n",
    "\n",
    "$$\\boxed{\\frac{dy}{dt} = v_y}$$\n",
    "\n",
    "Now that we have our 4 differential equations, we can continue on to the coding part."
   ]
  },
  {
   "cell_type": "markdown",
   "metadata": {},
   "source": [
    "### Import Necessary Packages\n",
    "\n",
    "we need to first import `numpy` and `matplotlib` to produce the Lissajous Figures."
   ]
  },
  {
   "cell_type": "code",
   "execution_count": 1,
   "metadata": {},
   "outputs": [],
   "source": [
    "import numpy as np\n",
    "import matplotlib.pyplot as plt"
   ]
  },
  {
   "cell_type": "markdown",
   "metadata": {},
   "source": [
    "### Define Constants\n",
    "\n",
    "We need to define 3 constants to be able to create these figures... the mass ($m$), angular frequency in the x-direction |($w_1$), and the angular frequency in the y-direction ($w_2$)."
   ]
  },
  {
   "cell_type": "code",
   "execution_count": 4,
   "metadata": {},
   "outputs": [],
   "source": [
    "# define constants\n",
    "m = 1   # kg\n",
    "w1 = 1  # angular frequency of x (rad/s)\n",
    "w2 = 2  # angular frequency of y (rad/s)"
   ]
  },
  {
   "cell_type": "markdown",
   "metadata": {},
   "source": [
    "### Create the Differential Equation Solver"
   ]
  },
  {
   "cell_type": "code",
   "execution_count": 5,
   "metadata": {},
   "outputs": [],
   "source": [
    "def RK4(diffeq, y0, t, h):\n",
    "    k1 = h*diffeq(y0, t)                    # dy/dt at t\n",
    "    k2 = h*diffeq(y0+0.5*k1, t + h/2.)      # dy/dt at t+h/2\n",
    "    k3 = h*diffeq(y0+0.5*k2, t + h/2.)      # dy/dt at t+h/2\n",
    "    k4 = h*diffeq(y0+k3, t + h)             # dy/dt at t+h\n",
    "    return y0 + (k1+k4)/6.0 + (k2+k3)/3.0\n"
   ]
  },
  {
   "cell_type": "markdown",
   "metadata": {},
   "source": [
    "### Creat the Model Function\n",
    "The model function is where the differential equations themselves are coded in. They will be ran through the differential equation solver (called RK4) to calculated the values for each time step."
   ]
  },
  {
   "cell_type": "code",
   "execution_count": 6,
   "metadata": {},
   "outputs": [],
   "source": [
    "# define model function\n",
    "def lissajous(y0, t):\n",
    "    dydt = np.zeros(4) #initialize array; each element is a derivative of y0 = [xpos, ypos, vx, vy, ...]\n",
    "    dydt[0] = y0[2] # intake x position; y[0] is position y[1] is dy/dt (intakes the derivative of the xpos and returns vx)\n",
    "    dydt[1] = y0[3] # intakes y position;\n",
    "    dydt[2] = -w1**2*y0[0] # intakes vx and returns x acceleration\n",
    "    dydt[3] = -w2**2*y0[1] # intakes vy and returns y acceleration\n",
    "    return dydt #this updates the dydt in the integrater function"
   ]
  },
  {
   "cell_type": "markdown",
   "metadata": {},
   "source": [
    "### Define the Initial Conditions\n",
    "\n",
    "The initial conditions for our Lissajous Figure are: initial x-position (`rx0`), initial y-position (`ry0`), initial x-velocity (`vx0`), initial y-velocity (`vy0`), and time (`t`). The variable `h` is the time step for the differential equations. You can choose these initial conditions to be whaterver you would like them to be. These initial conditions will be run through the differenial equation function to progress our equations for each time step `h`."
   ]
  },
  {
   "cell_type": "code",
   "execution_count": 7,
   "metadata": {},
   "outputs": [],
   "source": [
    "rx0 = 0   #initial x-position (m)\n",
    "ry0 = 0   #initial y-position (m)\n",
    "vx0 = 5   #initial x-velocity (m/s)\n",
    "vy0 = 5   #initial y-velocity (m/s)\n",
    "t = 0.0   #time (s)\n",
    "h = 0.02  #time step (s)\n"
   ]
  },
  {
   "cell_type": "markdown",
   "metadata": {},
   "source": [
    "### Create Variable to Hold the Initial Conditions\n",
    "$y_0$ is the list variable which contains a list that holds each of the variables that will be ran through the differential equation solver.\n",
    "\n",
    "The three lists $t_a$, $x_n$, and $y_n$ are used to store each of those variables during each time step.\n"
   ]
  },
  {
   "cell_type": "code",
   "execution_count": 8,
   "metadata": {},
   "outputs": [],
   "source": [
    "y0 = [rx0, ry0, vx0, vy0] #initial x position, initial y position, initial x velocity, initial y velocity\n",
    "ta, xn, yn = [],[],[] #lists to store time, numerical x-position, numerical y-position\n"
   ]
  },
  {
   "cell_type": "markdown",
   "metadata": {},
   "source": [
    "### Call the Model Function and Pass it Through the Differential Equation Solver\n",
    "\n",
    "The `while` loop has several purposes. It appends each value of $t$, $x$, and $y$ to the lists created above, and calls the differential equation solver and passes to it the model function, the list containing the variables that are needed, the time, and the time step. Additionally, this loop resets the $y_0$ vector and updates the clock. The `while` loops runs for whatever amount of time you choose for it to run for. A time of 1 second is commonly used for solving differential equations, however, with the Lissajous Figures, a longer time is needed for the figure to be fully completed. After the `while` loop is finished calculating, we then plot the graph of the stored data to obtain the Lissajous Figure."
   ]
  },
  {
   "cell_type": "code",
   "execution_count": 9,
   "metadata": {},
   "outputs": [
    {
     "data": {
      "image/png": "[encoded data removed]",
      "text/plain": [
       "<Figure size 432x288 with 1 Axes>"
      ]
     },
     "metadata": {},
     "output_type": "display_data"
    }
   ],
   "source": [
    "while t<20:\n",
    "    ta.append(t)\n",
    "    xn.append(y0[0]) #numerical x position\n",
    "    yn.append(y0[1]) #numerical y position\n",
    "\n",
    "    ####### Solver #######\n",
    "    y1 = RK4(lissajous, y0, t, h)\n",
    "\n",
    "\n",
    "    for i in range(len(y1)): #reset y0 to the new vector\n",
    "        y0[i] = y1[i]\n",
    "\n",
    "    t = t + h #update clock\n",
    "\n",
    "#plot Lissajour Figure\n",
    "plt.figure()\n",
    "plt.title('Figure 1')\n",
    "plt.plot(xn,yn, 'b-') \n",
    "plt.xlabel('x (m)')\n",
    "plt.ylabel('y (m)')\n",
    "plt.show()\n"
   ]
  },
  {
   "cell_type": "markdown",
   "metadata": {},
   "source": [
    "The above graph is the result of our chosen initial conditions and constants. This graphs changes drastically depending on what initial conditions, consntants, and the angular frequency ratio $\\frac{\\omega_1}{\\omega_2}$. Lets take a look at what happens if we change some of these variables.\n",
    "\n",
    "Lets first change our angular frequency ratio to $\\frac{3}{4}$"
   ]
  },
  {
   "cell_type": "code",
   "execution_count": 10,
   "metadata": {},
   "outputs": [
    {
     "data": {
      "image/png": "[encoded data removed]",
      "text/plain": [
       "<Figure size 432x288 with 1 Axes>"
      ]
     },
     "metadata": {},
     "output_type": "display_data"
    }
   ],
   "source": [
    "#constants\n",
    "m = 1   # kg\n",
    "w1 = 3  # angular frequency of x (rad/s)\n",
    "w2 = 4  # angular frequency of y (rad/s)\n",
    "t = 0.0   #time (s)\n",
    "h = 0.02  #time step (s)\n",
    "\n",
    "\n",
    "y0 = [rx0, ry0, vx0, vy0] #initial x position, initial y position, initial x velocity, initial y velocity\n",
    "ta, xn, yn = [],[],[] #lists to store time, numerical x-position, numerical y-position\n",
    "\n",
    "\n",
    "#initial conditions\n",
    "rx0 = 0   #initial x-position (m)\n",
    "ry0 = 0   #initial y-position (m)\n",
    "vx0 = 5   #initial x-velocity (m/s)\n",
    "vy0 = 5   #initial y-velocity (m/s)\n",
    "\n",
    "while t<20:\n",
    "    ta.append(t)\n",
    "    xn.append(y0[0]) #numerical x position\n",
    "    yn.append(y0[1]) #numerical y position\n",
    "\n",
    "    ####### Solver #######\n",
    "    y1 = RK4(lissajous, y0, t, h)\n",
    "\n",
    "\n",
    "    for i in range(len(y1)): #reset y0 to the new vector\n",
    "        y0[i] = y1[i]\n",
    "\n",
    "    t = t + h #update clock\n",
    "\n",
    "#plot Lissajour Figure    \n",
    "plt.figure()\n",
    "plt.title('Figure 2')\n",
    "plt.plot(xn,yn, 'b-') #label='numerical solution for path')\n",
    "plt.xlabel('x (m)')\n",
    "plt.ylabel('y (m)')\n",
    "plt.show()\n"
   ]
  },
  {
   "cell_type": "markdown",
   "metadata": {},
   "source": [
    "As you can see, figure 2 looks a little bit different than the figure 1. The number of crests along the x-axis tells you the value of $\\omega_2$ and along the y-axis tells you the value of $\\omega_1$. Since you can see 4 crests along the x-axis and 3 along the y-axis, you know that the angular frequency ratio $\\frac{\\omega_1}{\\omega_2} = \\frac{3}{4}$\n",
    "\n"
   ]
  },
  {
   "cell_type": "markdown",
   "metadata": {},
   "source": [
    "Now lets look at the grap with an angular frequency ratio of $\\frac{1}{3}$"
   ]
  },
  {
   "cell_type": "code",
   "execution_count": 11,
   "metadata": {},
   "outputs": [
    {
     "data": {
      "image/png": "[encoded data removed]",
      "text/plain": [
       "<Figure size 432x288 with 1 Axes>"
      ]
     },
     "metadata": {},
     "output_type": "display_data"
    }
   ],
   "source": [
    "#constants\n",
    "m = 1   # kg\n",
    "w1 = 1  # angular frequency of x (rad/s)\n",
    "w2 = 3  # angular frequency of y (rad/s)\n",
    "t = 0.0   #time (s)\n",
    "h = 0.02  #time step (s)\n",
    "\n",
    "\n",
    "y0 = [rx0, ry0, vx0, vy0] #initial x position, initial y position, initial x velocity, initial y velocity\n",
    "ta, xn, yn = [],[],[] #lists to store time, numerical x-position, numerical y-position\n",
    "\n",
    "\n",
    "#initial conditions\n",
    "rx0 = 0   #initial x-position (m)\n",
    "ry0 = 0   #initial y-position (m)\n",
    "vx0 = 5   #initial x-velocity (m/s)\n",
    "vy0 = 5   #initial y-velocity (m/s)\n",
    "\n",
    "while t<20:\n",
    "    ta.append(t)\n",
    "    xn.append(y0[0]) #numerical x position\n",
    "    yn.append(y0[1]) #numerical y position\n",
    "\n",
    "    ####### Solver #######\n",
    "    y1 = RK4(lissajous, y0, t, h)\n",
    "\n",
    "\n",
    "    for i in range(len(y1)): #reset y0 to the new vector\n",
    "        y0[i] = y1[i]\n",
    "\n",
    "    t = t + h #update clock\n",
    "\n",
    "#plot Lissajour Figure\n",
    "plt.figure()\n",
    "plt.title('Figure 3')\n",
    "plt.plot(xn,yn, 'b-') #label='numerical solution for path')\n",
    "plt.xlabel('x (m)')\n",
    "plt.ylabel('y (m)')\n",
    "#plt.legend()\n",
    "plt.show()\n"
   ]
  },
  {
   "cell_type": "markdown",
   "metadata": {},
   "source": [
    "As you have probably noticed,this graph looks different than the first two. The way to know what the angular frequency ratio \n",
    "is from this graph is to first look at the crests and traughs and see what direction they are in. Since they are along the along the x-direction we know that this corresponds to $\\omega_2$. To know what number $\\omega_2$ is, you count the number of crests and traughs and then add 1. In the above imagem since there is 1 crest and 1 traugh, we know that $\\omega_2 = 3$. Additionally, since there are no crests or traughs along the x-direction, we know that $\\omega_1 = 1$.\n",
    "\n",
    "Now lets try changing the initial velocities. To make a mental picture of what you think will happen if we have an initial x-velocity of 0 and an initial y-velocity of 1, lets think about it as the box with the mass and the 4 spring attached as mentioned previously. if we pull the mass back in the $y$ direction only, then we would expect there to be a single vertical like in the graph. Lets try it and see what happens...\n",
    "\n",
    "##### (side note --> run the following cell twice (hit shift enter, and then click the cell once more and hit shift enter again) when running the following cell to make sure all variables and lists are updated so you will get the correct graph)"
   ]
  },
  {
   "cell_type": "code",
   "execution_count": 12,
   "metadata": {},
   "outputs": [
    {
     "data": {
      "image/png": "[encoded data removed]",
      "text/plain": [
       "<Figure size 432x288 with 1 Axes>"
      ]
     },
     "metadata": {},
     "output_type": "display_data"
    }
   ],
   "source": [
    "#constants\n",
    "m = 1   # kg\n",
    "w1 = 3  # angular frequency of x (rad/s)\n",
    "w2 = 4  # angular frequency of y (rad/s)\n",
    "t = 0.0   #time (s)\n",
    "h = 0.02  #time step (s)\n",
    "\n",
    "\n",
    "y0 = [rx0, ry0, vx0, vy0] #initial x position, initial y position, initial x velocity, initial y velocity\n",
    "ta, xn, yn = [],[],[] #lists to store time, numerical x-position, numerical y-position\n",
    "\n",
    "\n",
    "#initial conditions\n",
    "rx0 = 0   #initial x-position (m)\n",
    "ry0 = 0   #initial y-position (m)\n",
    "vx0 = 0   #initial x-velocity (m/s)\n",
    "vy0 = 1   #initial y-velocity (m/s)\n",
    "\n",
    "while t<20:\n",
    "    ta.append(t)\n",
    "    xn.append(y0[0]) #numerical x position\n",
    "    yn.append(y0[1]) #numerical y position\n",
    "\n",
    "    ####### Solver #######\n",
    "    y1 = RK4(lissajous, y0, t, h)\n",
    "\n",
    "\n",
    "    for i in range(len(y1)): #reset y0 to the new vector\n",
    "        y0[i] = y1[i]\n",
    "\n",
    "    t = t + h #update clock\n",
    "\n",
    "#plot Lissajour Figure\n",
    "plt.figure()\n",
    "plt.title('Figure 4')\n",
    "plt.plot(xn,yn, 'b-') #label='numerical solution for path')\n",
    "plt.xlabel('x (m)')\n",
    "plt.ylabel('y (m)')\n",
    "#plt.legend()\n",
    "plt.show()\n"
   ]
  },
  {
   "cell_type": "markdown",
   "metadata": {},
   "source": [
    "As you can see, our prediction was correct. We have the mass moving in the y-direction only. If you pulled the mass back in the x-direction only, then you would have a single horizontal line. \n",
    "\n",
    "You have now learned about how Lissajous Figures operate, Great Job!! Feel free to go back through and play around with the initial conditions and constants to created some more interesting shapes/designes!"
   ]
  },
  {
   "cell_type": "code",
   "execution_count": null,
   "metadata": {},
   "outputs": [],
   "source": []
  },
  {
   "cell_type": "code",
   "execution_count": null,
   "metadata": {},
   "outputs": [],
   "source": []
  }
 ],
 "metadata": {
  "kernelspec": {
   "display_name": "Python 3",
   "language": "python",
   "name": "python3"
  },
  "language_info": {
   "codemirror_mode": {
    "name": "ipython",
    "version": 3
   },
   "file_extension": ".py",
   "mimetype": "text/x-python",
   "name": "python",
   "nbconvert_exporter": "python",
   "pygments_lexer": "ipython3",
   "version": "3.6.5"
  }
 },
 "nbformat": 4,
 "nbformat_minor": 2
}
