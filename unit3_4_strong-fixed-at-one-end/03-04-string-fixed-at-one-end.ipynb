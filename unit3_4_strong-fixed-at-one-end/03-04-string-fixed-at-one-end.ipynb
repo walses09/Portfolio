{
 "cells": [
  {
   "cell_type": "markdown",
   "metadata": {},
   "source": [
    "# Investigating the Motion of a String Fixed at One End and Free at the Other End"
   ]
  },
  {
   "cell_type": "code",
   "execution_count": 1,
   "metadata": {},
   "outputs": [
    {
     "data": {
      "application/javascript": [
       "require.undef(\"nbextensions/vpython_libraries/glow.min\");"
      ],
      "text/plain": [
       "<IPython.core.display.Javascript object>"
      ]
     },
     "metadata": {},
     "output_type": "display_data"
    },
    {
     "data": {
      "application/javascript": [
       "require.undef(\"nbextensions/vpython_libraries/glowcomm\");"
      ],
      "text/plain": [
       "<IPython.core.display.Javascript object>"
      ]
     },
     "metadata": {},
     "output_type": "display_data"
    },
    {
     "data": {
      "application/javascript": [
       "require.undef(\"nbextensions/vpython_libraries/jquery-ui.custom.min\");"
      ],
      "text/plain": [
       "<IPython.core.display.Javascript object>"
      ]
     },
     "metadata": {},
     "output_type": "display_data"
    },
    {
     "data": {
      "application/javascript": [
       "require([\"nbextensions/vpython_libraries/glow.min\"], function(){console.log(\"GLOW LOADED\");})"
      ],
      "text/plain": [
       "<IPython.core.display.Javascript object>"
      ]
     },
     "metadata": {},
     "output_type": "display_data"
    },
    {
     "data": {
      "application/javascript": [
       "require([\"nbextensions/vpython_libraries/glowcomm\"], function(){console.log(\"GLOWCOMM LOADED\");})"
      ],
      "text/plain": [
       "<IPython.core.display.Javascript object>"
      ]
     },
     "metadata": {},
     "output_type": "display_data"
    },
    {
     "data": {
      "application/javascript": [
       "require([\"nbextensions/vpython_libraries/jquery-ui.custom.min\"], function(){console.log(\"JQUERY LOADED\");})"
      ],
      "text/plain": [
       "<IPython.core.display.Javascript object>"
      ]
     },
     "metadata": {},
     "output_type": "display_data"
    },
    {
     "data": {
      "text/html": [
       "<div id=\"glowscript\" class=\"glowscript\"></div>"
      ],
      "text/plain": [
       "<IPython.core.display.HTML object>"
      ]
     },
     "metadata": {},
     "output_type": "display_data"
    },
    {
     "data": {
      "application/javascript": [
       "window.__context = { glowscript_container: $(\"#glowscript\").removeAttr(\"id\")}"
      ],
      "text/plain": [
       "<IPython.core.display.Javascript object>"
      ]
     },
     "metadata": {},
     "output_type": "display_data"
    }
   ],
   "source": [
    "import numpy as np\n",
    "import matplotlib.pyplot as plt\n",
    "import ode\n",
    "from scipy.optimize import curve_fit\n",
    "from vpython import * #yes, I know I'm not supposed to do this\n",
    "from scipy.linalg import eigh\n"
   ]
  },
  {
   "cell_type": "markdown",
   "metadata": {},
   "source": [
    "We will be looking at how a string moves when one end is attached to a wall and the other end is free to move about (i.e. not attached to a wall). We are first going to look at three masses connected to four springs. After understanding the mathematics behind how the program will work, we will generalize the solution to N number of masses and springs."
   ]
  },
  {
   "cell_type": "markdown",
   "metadata": {},
   "source": [
    "For three masses connected by four springs where the boundaries include 1 wal and 1 free end, the equations of motion for the displacement $u_i$ for each mass $m_i$ are:\n",
    "\n",
    "$$m_1\\ddot{u}_1 = -ku_1-k(u_1-u_2)=-2ku_1+ku_2$$\n",
    "\n",
    "$$m_2\\ddot{u}_2 = -k(u_2-u_1)-k(u_2-u_3)=ku_1-2ku_2+ku_3$$\n",
    "\n",
    "$$m_3\\ddot{u}_3 = -k(u_3-u_2)=ku_2-ku_3$$\n"
   ]
  },
  {
   "cell_type": "markdown",
   "metadata": {},
   "source": [
    "We will assume the masses oscillate vertically. In this case $k=F_T/L_0$ where $F_T$ is the tension in the \"string\" and $L_0$ is the nominal distance between masses (\"atoms\")."
   ]
  },
  {
   "cell_type": "markdown",
   "metadata": {},
   "source": [
    "Next we will assume that there is a set of initial conditions that results in motion where each mass oscillates with a frequency $\\omega$ and the displacement of each mass $m_i$ is described by a single sinusoidal function:\n",
    "\n",
    "$$u_i = a_i \\cos(\\omega t + \\phi)$$\n",
    "\n",
    "Substituting this into the differential equations above gives:\n",
    "\n",
    "$$2ka_1-ka_2 + 0 = m_1\\omega^2a_1$$\n",
    "\n",
    "$$-ka_1+2ka_2 - ka_3 = m_2\\omega^2a_2$$\n",
    "\n",
    "$$0 -ka_2 + ka_3 = m_3\\omega^2a_3$$\n"
   ]
  },
  {
   "cell_type": "markdown",
   "metadata": {},
   "source": [
    "The next step involves rewriting the above equations into matrix form so we can then perform linear algebra on them and find a general solution\n",
    "\n",
    "$$\n",
    "\\left[ {\\begin{array}{ccc}\n",
    "   2k & -k & 0 \\\\\n",
    "   -k & 2k & -k \\\\\n",
    "   0 & -k & k \\\\\n",
    "  \\end{array} } \\right]\n",
    "\\left[ {\\begin{array}{c}\n",
    "    a_1 \\\\\n",
    "    a_2 \\\\\n",
    "    a_3 \\\\\n",
    "  \\end{array} } \\right]\n",
    "  = \\omega^2\n",
    "\\left[ {\\begin{array}{ccc}\n",
    "   m_1 & 0 & 0 \\\\\n",
    "   0 & m_2 & 0 \\\\\n",
    "   0 & 0 & m_3 \\\\\n",
    "  \\end{array} } \\right]\n",
    "\\left[ {\\begin{array}{c}\n",
    "    a_1 \\\\\n",
    "    a_2 \\\\\n",
    "    a_3 \\\\\n",
    "  \\end{array} } \\right]\n",
    "$$\n",
    "\n",
    "Define $\\lambda=\\omega^2$, then\n",
    "\n",
    "$$[A-\\lambda B]\\vec{a}$$\n",
    "\n",
    "where $\\lambda$ is called the eigenvalue and $\\vec{a}$ is called the eigenvector. \n",
    "\n"
   ]
  },
  {
   "cell_type": "markdown",
   "metadata": {},
   "source": [
    "To find the frequencies, we will solve for the eigenvalues using\n",
    "\n",
    "$$\\det\\left[ A-\\lambda B\\right]=0$$\n",
    "\n",
    "$$\\left | {\\begin{array}{ccc}\n",
    "   2k-\\lambda m_1 & -k & 0 \\\\\n",
    "   -k & 2k-\\lambda m_2 & -k \\\\\n",
    "   0 & -k & k-\\lambda m_3 \\\\\n",
    "  \\end{array} } \\right |$$\n",
    "  \n",
    "There are three eigenvalues, and we will substitute each eigenvalue back into the equations of motion above and solve for its corresponding eigenvector:\n",
    "\n",
    "$$ \\vec{a}=\n",
    "\\left[ {\\begin{array}{c}\n",
    "    a_1 \\\\\n",
    "    a_2 \\\\\n",
    "    a_3 \\\\\n",
    "  \\end{array} } \\right]\n",
    "$$\n"
   ]
  },
  {
   "cell_type": "markdown",
   "metadata": {},
   "source": [
    "Now that we have the eigen values and vectors, we Write the general analytic solution for the triatomic molecule as a sum of the normal modes.\n",
    "\n",
    "$$\n",
    "\\left[ {\\begin{array}{c}\n",
    "    u_1 \\\\\n",
    "    u_2 \\\\\n",
    "    u_3 \\\\\n",
    "  \\end{array} } \\right]\n",
    "  = A_0\n",
    "\\left[ {\\begin{array}{c}\n",
    "    a_{00} \\\\\n",
    "    a_{10} \\\\\n",
    "    a_{20} \\\\\n",
    "  \\end{array} } \\right]\n",
    "  \\cos(\\omega_0t + \\phi_0)\n",
    "+ A_1\n",
    "\\left[ {\\begin{array}{c}\n",
    "    a_{01} \\\\\n",
    "    a_{11} \\\\\n",
    "    a_{21} \\\\\n",
    "  \\end{array} } \\right]\n",
    "  \\cos(\\omega_1t + \\phi_1)\n",
    "+ A_2\n",
    "\\left[ {\\begin{array}{c}\n",
    "    a_{02} \\\\\n",
    "    a_{12} \\\\\n",
    "    a_{22} \\\\\n",
    "  \\end{array} } \\right]\n",
    "  \\cos(\\omega_1t + \\phi_2)\n",
    "$$\n",
    "\n",
    "The constants $A_0,\\ A_1,\\ A_2, \\phi_0,\\ \\phi_1,\\ \\phi_2$ depend on the initial conditions of the atoms.\n",
    "\n",
    "First, let's set the initial velocities of all atoms to zero so the phases are zero.\n",
    "\n",
    "\n",
    "Now, let's solve for $A_0,\\ A_1,\\ A_2$ based on the initial positions of the atoms. At $t=0$, \n",
    "\n",
    "$$u_1=u_{1i}=A_0a_{00} + A_1a_{01} + A_2a_{02}$$\n",
    "\n",
    "$$u_2=u_{2i}=A_0a_{10} + A_1a_{11} + A_2a_{12}$$\n",
    "\n",
    "$$u_3=u_{3i}=A_0a_{20} + A_1a_{21} + A_2a_{22}$$\n",
    "\n",
    "We have three equations and three unknowns and, as mentioned earlier, we will use linear algebra to solve them.\n",
    "\n",
    "$$\n",
    "\\left[ {\\begin{array}{ccc}\n",
    "   a_{00} & a_{01} & a_{02} \\\\\n",
    "   a_{10} & a_{11} & a_{22} \\\\\n",
    "   a_{20} & a_{21} & a_{22} \\\\\n",
    "  \\end{array} } \\right]\n",
    "\\left[ {\\begin{array}{c}\n",
    "    A_0 \\\\\n",
    "    A_1 \\\\\n",
    "    A_2 \\\\\n",
    "  \\end{array} } \\right]\n",
    "  = \n",
    "\\left[ {\\begin{array}{c}\n",
    "    u_{1i} \\\\\n",
    "    u_{2i} \\\\\n",
    "    u_{3i} \\\\\n",
    "  \\end{array} } \\right]\n",
    "$$"
   ]
  },
  {
   "cell_type": "markdown",
   "metadata": {},
   "source": [
    "## Define a Function that Calculates the Normal Modes"
   ]
  },
  {
   "cell_type": "code",
   "execution_count": 2,
   "metadata": {},
   "outputs": [],
   "source": [
    "def normal_modes(Natoms, ks, mass, ui, udoti, t_total): \n",
    "    global N, k, m    #here we are making these variables global since we are defining them inside a function\n",
    "    N=Natoms \n",
    "    k=ks\n",
    "    m=mass\n",
    "    \n",
    "    #Build matrices\n",
    "    A=np.zeros((Natoms,Natoms))\n",
    "\n",
    "    for i in range(Natoms):\n",
    "        A[i,i] = 2*ks\n",
    "        if i==0:\n",
    "            A[0,i+1]=-ks\n",
    "        elif i==Natoms-1:\n",
    "            A[i,i-1]=-ks\n",
    "        else:\n",
    "            A[i,i-1]=-ks\n",
    "            A[i,i+1]=-ks\n",
    "    \n",
    "    A[Natoms-1,Natoms-1] = ks\n",
    "            \n",
    "\n",
    "    B=mass*np.identity(Natoms)\n",
    "\n",
    "    #find eigenvalues and eigenvectors\n",
    "    lamb, a = eigh(A, B)        # eigenvalues and eigenvectors  \n",
    "    #print(\"eigenvalues (omega^2):\", lamb)\n",
    "    #print(\"eigenvectors are column vectors in:\\n\\n\", a)\n",
    "\n",
    "    #Find coefficients for normal modes\n",
    "    Acoeffs = np.linalg.solve(a,ui)\n",
    "\n",
    "    #build the general solution\n",
    "    t = np.linspace(0,t_total,1000)\n",
    "\n",
    "    omegas = np.sqrt(lamb)\n",
    "    u_atoms = np.zeros((Natoms,len(t)))\n",
    "\n",
    "    for i in range(Natoms):\n",
    "        for w in range(0,len(omegas)):\n",
    "            u_atoms[i] = u_atoms[i] + Acoeffs[w]*a[i,w]*np.cos(omegas[w]*t)\n",
    "\n",
    "    return omegas, a, u_atoms, t"
   ]
  },
  {
   "cell_type": "markdown",
   "metadata": {},
   "source": [
    "## Define a Plot Function"
   ]
  },
  {
   "cell_type": "code",
   "execution_count": 3,
   "metadata": {},
   "outputs": [],
   "source": [
    "def plot_mode_teq0(mode, freqs, vecs): #plot normal mode at t=0\n",
    "    \n",
    "    u_mode = vecs[:,mode]\n",
    "    u_mode_with_boundary=np.insert(u_mode,0,0) #add 0 to beginning of array\n",
    "#    u_mode_with_boundary=np.append(u_mode_with_boundary,0) #add 0 to end of array\n",
    "    xa = np.linspace(0,L,Natoms+1)\n",
    "        \n",
    "    plt.figure()\n",
    "    plt.title(\"normal mode %d\" % mode)\n",
    "    plt.plot(xa,u_mode_with_boundary, 'b-', label='u_i')\n",
    "    plt.xlabel('x (m)')\n",
    "    plt.ylabel('y (m)')\n",
    "    plt.legend(loc='lower right')\n",
    "    plt.show()\n"
   ]
  },
  {
   "cell_type": "markdown",
   "metadata": {},
   "source": [
    "## Calling the Normal Modes and Plot Function\n",
    "\n",
    "Here we are calling the normal modes so that we can plot them and see what they look like. Since our the number of atoms we are using in our string is 50, we have 50 modes within our system. However, you can play around with the number of atoms and modes to see what the outcomes will be."
   ]
  },
  {
   "cell_type": "code",
   "execution_count": 4,
   "metadata": {},
   "outputs": [
    {
     "data": {
      "image/png": "[encoded data removed]",
      "text/plain": [
       "<Figure size 432x288 with 1 Axes>"
      ]
     },
     "metadata": {},
     "output_type": "display_data"
    }
   ],
   "source": [
    "Natoms = 50\n",
    "ks = 1\n",
    "mass = 1\n",
    "L = 1\n",
    "L0 = L/(Natoms+1)\n",
    "F_T = ks*L0\n",
    "t_tot = 10*np.pi\n",
    "\n",
    "u_i = np.zeros(Natoms)\n",
    "udot_i = np.zeros(Natoms)\n",
    "\n",
    "eig_freq, eig_vec, u, ta = normal_modes(Natoms, ks, mass, u_i, udot_i, t_tot)\n",
    "plot_mode_teq0(0,eig_freq,eig_vec)"
   ]
  },
  {
   "cell_type": "code",
   "execution_count": 5,
   "metadata": {},
   "outputs": [
    {
     "data": {
      "image/png": "[encoded data removed]",
      "text/plain": [
       "<Figure size 432x288 with 1 Axes>"
      ]
     },
     "metadata": {},
     "output_type": "display_data"
    }
   ],
   "source": [
    "plot_mode_teq0(1,eig_freq,eig_vec)"
   ]
  },
  {
   "cell_type": "code",
   "execution_count": 6,
   "metadata": {},
   "outputs": [
    {
     "data": {
      "image/png": "[encoded data removed]",
      "text/plain": [
       "<Figure size 432x288 with 1 Axes>"
      ]
     },
     "metadata": {},
     "output_type": "display_data"
    }
   ],
   "source": [
    "plot_mode_teq0(2,eig_freq,eig_vec)"
   ]
  },
  {
   "cell_type": "code",
   "execution_count": 7,
   "metadata": {},
   "outputs": [
    {
     "data": {
      "image/png": "[encoded data removed]",
      "text/plain": [
       "<Figure size 432x288 with 1 Axes>"
      ]
     },
     "metadata": {},
     "output_type": "display_data"
    }
   ],
   "source": [
    "plot_mode_teq0(3,eig_freq,eig_vec)"
   ]
  },
  {
   "cell_type": "markdown",
   "metadata": {},
   "source": [
    "## Create a Function to Animate the Mode using VPython\n",
    "\n",
    "We are using VPython to create a function to animate the mode that we tell it to animate so we can actually see how that mode changes over time"
   ]
  },
  {
   "cell_type": "code",
   "execution_count": 8,
   "metadata": {},
   "outputs": [],
   "source": [
    "def animate_mode(mode, freqs, vecs):\n",
    "    scene=canvas()\n",
    "    \n",
    "    a = vecs[:,mode]\n",
    "    omega = freqs[mode]\n",
    "    \n",
    "    scene.background=color.white\n",
    "    \n",
    "    balls=[]\n",
    "    xballs = np.linspace(-L/2+L0,L/2-L0,Natoms)\n",
    "    \n",
    "    springs=[]\n",
    "    xsprings = np.linspace(-L/2,L/2-L0,Natoms+1)\n",
    "    springs.append(helix(pos=vec(-L/2,0,0), axis=vec(L0,0,0), color=color.orange, radius=L0/8))\n",
    "    \n",
    "    for x in xballs:\n",
    "        ball = sphere(pos=vec(x,0,0), radius=L0/4, color=color.red)\n",
    "        balls.append(ball)\n",
    "        spring = helix(pos=ball.pos, axis=vec(L0,0,0), color=color.orange, radius=ball.radius/2)\n",
    "        springs.append(spring)\n",
    "        \n",
    "    #set initial positions    \n",
    "    for i in range(0,len(balls)):\n",
    "        ball = balls[i]\n",
    "        u_t = a[i]\n",
    "        ball.pos.y = u_t\n",
    "    for i in range(1, len(springs)-1): #all springs except first and last\n",
    "        spring = springs[i]\n",
    "        spring.pos=balls[i-1].pos\n",
    "        spring.axis=balls[i].pos-spring.pos\n",
    "    #update first and last springs\n",
    "    springs[0].axis = balls[0].pos-springs[0].pos\n",
    "    springs[-1].pos = balls[-1].pos\n",
    "    springs[-1].axis = vec(L/2,0,0)-springs[-1].pos\n",
    "    \n",
    "    scene.waitfor(\"click\")\n",
    "    t=0\n",
    "    dt=0.01\n",
    "\n",
    "    while t<10*t_tot:\n",
    "        rate(1000)\n",
    "        for i in range(0,len(balls)):\n",
    "            ball = balls[i]\n",
    "            u_t = a[i]*np.cos(omega*t)\n",
    "            ball.pos.y = u_t\n",
    "        for i in range(1, len(springs)-1): #all springs except first and last\n",
    "            spring = springs[i]\n",
    "            spring.pos=balls[i-1].pos\n",
    "            spring.axis=balls[i].pos-spring.pos\n",
    "        #update first and last springs\n",
    "        springs[0].axis = balls[0].pos-springs[0].pos\n",
    "        springs[-1].pos = balls[-1].pos\n",
    "        springs[-1].axis = vec(L/2,0,0)-springs[-1].pos\n",
    "\n",
    "        t=t+dt\n",
    "                "
   ]
  },
  {
   "cell_type": "markdown",
   "metadata": {},
   "source": [
    "We will next call the animate function and once you run the following cell make sure to click in it so it will begin playing the animation."
   ]
  },
  {
   "cell_type": "code",
   "execution_count": 9,
   "metadata": {},
   "outputs": [
    {
     "data": {
      "text/html": [
       "<div id=\"glowscript\" class=\"glowscript\"></div>"
      ],
      "text/plain": [
       "<IPython.core.display.HTML object>"
      ]
     },
     "metadata": {},
     "output_type": "display_data"
    },
    {
     "data": {
      "application/javascript": [
       "window.__context = { glowscript_container: $(\"#glowscript\").removeAttr(\"id\")}"
      ],
      "text/plain": [
       "<IPython.core.display.Javascript object>"
      ]
     },
     "metadata": {},
     "output_type": "display_data"
    }
   ],
   "source": [
    "animate_mode(1,eig_freq,eig_vec)"
   ]
  },
  {
   "cell_type": "markdown",
   "metadata": {},
   "source": [
    "## Plucked String with 1 End Bound to Wall and the Other End is Free\n",
    "\n",
    "We are now going to model a plucked string with 1 end bound to a wall and the other end is free. We will model this by using a triangle shape string so that the peak of the triangle represents the part of the string being pulled upwards.\n",
    "We will first define the plot function and then create the string itself."
   ]
  },
  {
   "cell_type": "code",
   "execution_count": 10,
   "metadata": {},
   "outputs": [],
   "source": [
    "def plot_ui0(u_i): #plot normal mode at t=0\n",
    "    \n",
    "    u_with_boundary=np.insert(u_i,0,0) #add 0 to beginning of array\n",
    "    u_with_boundary=np.append(u_with_boundary,0) #add 0 to end of array\n",
    "    xa = np.linspace(0,L,Natoms+2)\n",
    "        \n",
    "    plt.figure()\n",
    "    plt.title(\"u (t=0)\")\n",
    "    plt.plot(xa,u_with_boundary, 'b-', label='u')\n",
    "    plt.xlabel('x (m)')\n",
    "    plt.ylabel('y (m)')\n",
    "    plt.legend(loc='lower right')\n",
    "    plt.show()"
   ]
  },
  {
   "cell_type": "code",
   "execution_count": 11,
   "metadata": {},
   "outputs": [],
   "source": [
    "Natoms = 50\n",
    "ks = 1\n",
    "mass = 1\n",
    "L = 1\n",
    "L0 = L/(Natoms+1)\n",
    "F_T = ks*L0\n",
    "t_tot = 5*10*np.pi\n",
    "\n",
    "xi_1=np.linspace(L0,L/2-L0,int(Natoms/2))\n",
    "xi_2=np.linspace(L/2,L-L0,int(Natoms/2))\n",
    "xi=np.append(xi_1,xi_2)\n",
    "\n",
    "u_i_1 = 0.1/(L/2)*xi_1\n",
    "u_i_2 = 0.1-0.1/(L/2)*(xi_2-L/2)\n",
    "u_i = np.append(u_i_1,u_i_2)\n",
    "udot_i = np.zeros(Natoms)\n",
    "\n",
    "eig_freq, eig_vec, u, ta = normal_modes(Natoms, ks, mass, u_i, udot_i, t_tot)"
   ]
  },
  {
   "cell_type": "code",
   "execution_count": 12,
   "metadata": {},
   "outputs": [
    {
     "data": {
      "image/png": "[encoded data removed]",
      "text/plain": [
       "<Figure size 432x288 with 1 Axes>"
      ]
     },
     "metadata": {},
     "output_type": "display_data"
    }
   ],
   "source": [
    "plot_ui0(u_i)"
   ]
  },
  {
   "cell_type": "markdown",
   "metadata": {},
   "source": [
    "#### Animate the Plucked String\n",
    "We will now use a package from mplEasyAnimate to animate our plucked string. \n",
    "Wha this animation function is doing is that it is plotting each time step of the function and then saving the grap to a file. Once each time step has been completed, the function then takes all of the images for each time step and compreses them and turns them into an mp4 video that you can play."
   ]
  },
  {
   "cell_type": "code",
   "execution_count": null,
   "metadata": {},
   "outputs": [],
   "source": [
    "from IPython.display import HTML\n",
    "\n",
    "def playVideo(path):\n",
    "    return HTML(\"\"\"\n",
    "                <video width=\"320\" height=\"240\" controls>\n",
    "                  <source src=\"{}\" type=\"video/mp4\">\n",
    "                </video>\n",
    "                \"\"\".format(path))"
   ]
  },
  {
   "cell_type": "code",
   "execution_count": null,
   "metadata": {},
   "outputs": [],
   "source": [
    "from mplEasyAnimate import animation\n",
    "from tqdm import tqdm"
   ]
  },
  {
   "cell_type": "code",
   "execution_count": null,
   "metadata": {},
   "outputs": [],
   "source": [
    "def easyanimate_string(t_array, u_array, filename):\n",
    "    xa = np.linspace(L0,L-L0,Natoms)\n",
    "\n",
    "    t_offsets = t_array\n",
    "    anim = animation(filename)\n",
    "    i=0\n",
    "    for offset in tqdm(t_offsets):\n",
    "        fig, ax = plt.subplots(1, 1, figsize=(10, 7))\n",
    "        ax.plot(xa, u_array[:,i])\n",
    "        ax.set_xlim(0,L)\n",
    "        ax.set_ylim(-0.11,0.11)\n",
    "        \n",
    "        anim.add_frame(fig)\n",
    "        plt.close(fig)\n",
    "        i=i+1\n",
    "    anim.close()    "
   ]
  },
  {
   "cell_type": "code",
   "execution_count": null,
   "metadata": {},
   "outputs": [],
   "source": [
    "file='string-triangle.mp4'\n",
    "easyanimate_string(ta,u,file)"
   ]
  },
  {
   "cell_type": "code",
   "execution_count": null,
   "metadata": {},
   "outputs": [],
   "source": [
    "playVideo(file)"
   ]
  },
  {
   "cell_type": "markdown",
   "metadata": {},
   "source": [
    "## Using the Finite Difference Method (FDM) to show that a Gaussian Does Not Invert when one of the Ends are Free"
   ]
  },
  {
   "cell_type": "markdown",
   "metadata": {},
   "source": [
    "With no external load, the displacement of a string at location $x$ and time $t$ is given by\n",
    "\n",
    "$$F_T\\frac{\\partial u^2(x,t)}{\\partial x^2}=\\rho \\frac{\\partial u^2(x,t)}{\\partial t^2}$$\n",
    "\n",
    "where $F_T$ is the tension and $\\rho$ is the linaer density $M/L$ of the string.  This can be written\n",
    "\n",
    "$$\\frac{\\partial u^2(x,t)}{\\partial x^2}= \\frac{1}{v^2} \\frac{\\partial u^2(x,t)}{\\partial t^2}$$\n",
    "\n",
    "where $v=\\sqrt{F_T/\\rho}$."
   ]
  },
  {
   "cell_type": "markdown",
   "metadata": {},
   "source": [
    "Write each second derivative using FDM approximation. The second order approximation of the second partial derivative with respect to $x$ is\n",
    "\n",
    "$$\\frac{\\partial u^2(x,t)}{\\partial x^2} \\approx \\frac{u(x+h,t)-2u(x,t)+u(x-h,t)}{h^2}$$\n",
    "\n",
    "The second order approximation of the second partial derivative with respect to $t$ is\n",
    "\n",
    "$$\\frac{\\partial u^2(x,t)}{\\partial t^2} \\approx \\frac{u(x,t+\\Delta t)-2u(x,t)+u(x,t-\\Delta t)}{\\Delta t^2}$$\n",
    "\n",
    "Use the subscript $m$ to indicate the $m^{th}$ index of the grid position $x_m$. Use the superscript $n$ to indicate the $n^{th}$ step in time. Then the wave equation is\n",
    "\n",
    "$$\\frac{u(x+h,t)-2u(x,t)+u(x-h,t)}{h^2} = \\frac{1}{v^2} \\frac{u(x,t+\\Delta t)-2u(x,t)+u(x,t-\\Delta t)}{\\Delta t^2}$$\n",
    "\n",
    "$$\\frac{u_{m-1}^n-2u_{m}^n+u_{m+1}^n}{h^2} = \\frac{1}{v^2} \\frac{u_{m}^{n-1}-2u_{m}^n+u_{m}^{n+1}}{\\Delta t^2} $$\n",
    "\n",
    "\n",
    "The indices with $m$ represent grid points. The superscripts with $n$ are the evolution in time. The goal is to step forward in time. Thus, solve for $u_{m}^{n+1}$.\n",
    "\n",
    "$$u_{m}^{n+1} = 2(1-\\beta^2)u_m^n - u_m^{n-1} + \\beta^2(u_{m-1}^n+u_{m+1}^n)$$\n",
    "\n",
    "where $\\beta=\\frac{v\\Delta t}{h}$. To evolve in time, we use two arrays to hold the solutions to $u(x)$ at all grid points at times $t_{n-1}$ and $t_n$, advance the solution to $t_{n+1}$ and store it in a third array, then swap the appropriate arrays to advance to $t_{n+2}$, and so on."
   ]
  },
  {
   "cell_type": "markdown",
   "metadata": {},
   "source": [
    "### We need to Define our Function to Compute the Displacement of Each \"atom\" for Each Timestep Using the Wave Equation and Finite Difference Method and then Our Gaussian Functions to be Used Later On"
   ]
  },
  {
   "cell_type": "code",
   "execution_count": 13,
   "metadata": {},
   "outputs": [],
   "source": [
    "def wavemotion(u0, u1):\n",
    "    u2 = 2*(1-b)*u1 - u0                     # unshifted terms \n",
    "    u2[1:-1] += b*( u1[0:-2] + u1[2:] )      # left, right \n",
    "    return u2\n",
    "\n",
    "def gaussian(x):\n",
    "    return np.exp(-(x-5)**2)                 # gaussian has x-5 bc it will cause it to peak at x=5\n"
   ]
  },
  {
   "cell_type": "code",
   "execution_count": 14,
   "metadata": {},
   "outputs": [
    {
     "data": {
      "text/plain": [
       "(201, 101)"
      ]
     },
     "execution_count": 14,
     "metadata": {},
     "output_type": "execute_result"
    }
   ],
   "source": [
    "L, N = 10, 100           # length of string, number of intervals\n",
    "b = 1.0                    # beta^2\n",
    "h = L/N\n",
    "\n",
    "t_total = 20\n",
    "N_t = 200 #number of time intervals\n",
    "dt = t_total/N_t\n",
    "t = 0\n",
    "ta = np.linspace(0,t_total,N_t+1)\n",
    "\n",
    "x = np.linspace(0, L, N+1)\n",
    "u0 = gaussian(x)\n",
    "u1 = gaussian(x-b*h)  #giving it a velocity to the right\n",
    "\n",
    "data = np.zeros((N_t+1,N+1))  #columns are u at grid points\n",
    "data[0]=u0\n",
    "data[1]=u1\n",
    "\n",
    "for i in range(N_t):\n",
    "    u2 = wavemotion(u0, u1)\n",
    "    u2[-1] = u2[-2]         #here we are making the last particle on the right end equal to the particle before it to make it \"free\"\n",
    "    u0, u1 = u1, u2\n",
    "    data[i]=u2\n",
    "\n",
    "data.shape\n"
   ]
  },
  {
   "cell_type": "markdown",
   "metadata": {},
   "source": [
    "We will use the EasyAnimate function to create a video of the gaussian wave to see if the gaussian inverts at the free end or not"
   ]
  },
  {
   "cell_type": "code",
   "execution_count": null,
   "metadata": {},
   "outputs": [],
   "source": [
    "def easyanimate_string(t_array, u_array, filename):\n",
    "    xa = np.linspace(0., L, N+1)\n",
    "\n",
    "    t_offsets = t_array\n",
    "    anim = animation(filename)\n",
    "    i=0\n",
    "    for offset in tqdm(t_offsets):\n",
    "        fig, ax = plt.subplots(1, 1, figsize=(10, 7))\n",
    "        ax.plot(xa, u_array[i,:])\n",
    "        ax.set_xlim(0,L)\n",
    "        ax.set_ylim(-1.1,1.1)\n",
    "        \n",
    "        anim.add_frame(fig)\n",
    "        plt.close(fig)\n",
    "        i=i+1\n",
    "    anim.close()    "
   ]
  },
  {
   "cell_type": "code",
   "execution_count": null,
   "metadata": {},
   "outputs": [],
   "source": [
    "file='string-2.mp4'\n",
    "easyanimate_string(ta,data,file)"
   ]
  },
  {
   "cell_type": "code",
   "execution_count": null,
   "metadata": {},
   "outputs": [],
   "source": [
    "playVideo(file)"
   ]
  },
  {
   "cell_type": "markdown",
   "metadata": {},
   "source": [
    "As you can see in the above video, the gaussian does not inverte at the free end, meaning we create the function correctly."
   ]
  },
  {
   "cell_type": "code",
   "execution_count": null,
   "metadata": {},
   "outputs": [],
   "source": []
  }
 ],
 "metadata": {
  "kernelspec": {
   "display_name": "Python 3",
   "language": "python",
   "name": "python3"
  },
  "language_info": {
   "codemirror_mode": {
    "name": "ipython",
    "version": 3
   },
   "file_extension": ".py",
   "mimetype": "text/x-python",
   "name": "python",
   "nbconvert_exporter": "python",
   "pygments_lexer": "ipython3",
   "version": "3.6.5"
  }
 },
 "nbformat": 4,
 "nbformat_minor": 2
}
